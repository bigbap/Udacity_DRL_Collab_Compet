{
 "cells": [
  {
   "cell_type": "code",
   "execution_count": 1,
   "id": "d13a9428",
   "metadata": {},
   "outputs": [],
   "source": [
    "from src.environment_tennis import EnvironmentTennis, episode\n",
    "from src.agent import Agent\n",
    "import numpy as np\n",
    "import matplotlib.pyplot as plt\n",
    "\n",
    "N_EPISODES = 10000\n",
    "T_MAX = 10000\n",
    "SOLVED = 0.5"
   ]
  },
  {
   "cell_type": "code",
   "execution_count": 2,
   "id": "45533017",
   "metadata": {},
   "outputs": [],
   "source": [
    "def train_MADDPG(n_episodes=N_EPISODES):\n",
    "    running_scores = []\n",
    "    running_scores_avg = []\n",
    "    max_avg = 0.0\n",
    "    for i in range(n_episodes):\n",
    "        scores = episode(env, agent, train_mode=True, rnd=len(running_scores) < 100, t_max=T_MAX)\n",
    "        running_scores += [scores.max()]\n",
    "        running_scores_avg += [np.mean(running_scores[-100:])]\n",
    "\n",
    "        if running_scores_avg[-1] > max_avg:\n",
    "            max_avg = running_scores_avg[-1]\n",
    "            agent.save_weights()\n",
    "\n",
    "        if (i + 1) % 100 == 0:\n",
    "            print(f\"episode: {i+1}, last 100 avg score: {running_scores_avg[-1]}\")\n",
    "\n",
    "        if running_scores_avg[-1] >= SOLVED:\n",
    "            print(f\"solved on episode {i+1}, solved avg score: {running_scores_avg[-1]}\")\n",
    "            break\n",
    "\n",
    "    return running_scores, running_scores_avg"
   ]
  },
  {
   "cell_type": "code",
   "execution_count": 3,
   "id": "bb797d73",
   "metadata": {},
   "outputs": [
    {
     "name": "stderr",
     "output_type": "stream",
     "text": [
      "INFO:unityagents:\n",
      "'Academy' started successfully!\n",
      "Unity Academy name: Academy\n",
      "        Number of Brains: 1\n",
      "        Number of External Brains : 1\n",
      "        Lesson number : 0\n",
      "        Reset Parameters :\n",
      "\t\t\n",
      "Unity brain name: TennisBrain\n",
      "        Number of Visual Observations (per agent): 0\n",
      "        Vector Observation space type: continuous\n",
      "        Vector Observation space size (per agent): 8\n",
      "        Number of stacked Vector Observation: 3\n",
      "        Vector Action space type: continuous\n",
      "        Vector Action space size (per agent): 2\n",
      "        Vector Action descriptions: , \n"
     ]
    }
   ],
   "source": [
    "env = EnvironmentTennis(no_graphics=True, seed=1)\n",
    "agent = Agent(s_dim=env.state_size, a_dim=env.action_size, n_agents=env.num_agents)\n",
    "agent.load_weights()"
   ]
  },
  {
   "cell_type": "code",
   "execution_count": 4,
   "id": "9b4eb579",
   "metadata": {},
   "outputs": [
    {
     "name": "stdout",
     "output_type": "stream",
     "text": [
      "episode: 100, last 100 avg score: 0.02040000032633543\n",
      "episode: 200, last 100 avg score: 0.026200000420212744\n",
      "episode: 300, last 100 avg score: 0.0\n",
      "episode: 400, last 100 avg score: 0.04350000070407987\n",
      "episode: 500, last 100 avg score: 0.11430000180378556\n",
      "episode: 600, last 100 avg score: 0.38620000578463076\n",
      "solved on episode 637, solved avg score: 0.505200007557869\n"
     ]
    },
    {
     "data": {
      "image/png": "[encoded data removed]",
      "text/plain": [
       "<Figure size 432x288 with 1 Axes>"
      ]
     },
     "metadata": {
      "needs_background": "light"
     },
     "output_type": "display_data"
    }
   ],
   "source": [
    "running_scores, running_scores_avg = train_MADDPG()\n",
    "\n",
    "plt.plot(running_scores)\n",
    "plt.plot(running_scores_avg)\n",
    "plt.show()"
   ]
  },
  {
   "cell_type": "code",
   "execution_count": 5,
   "id": "131263a6",
   "metadata": {},
   "outputs": [],
   "source": [
    "env.close()"
   ]
  }
 ],
 "metadata": {
  "kernelspec": {
   "display_name": "drlnd",
   "language": "python",
   "name": "drlnd"
  },
  "language_info": {
   "codemirror_mode": {
    "name": "ipython",
    "version": 3
   },
   "file_extension": ".py",
   "mimetype": "text/x-python",
   "name": "python",
   "nbconvert_exporter": "python",
   "pygments_lexer": "ipython3",
   "version": "3.6.13"
  }
 },
 "nbformat": 4,
 "nbformat_minor": 5
}
