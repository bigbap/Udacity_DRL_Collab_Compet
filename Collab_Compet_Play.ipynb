{
 "cells": [
  {
   "cell_type": "code",
   "execution_count": 1,
   "metadata": {},
   "outputs": [],
   "source": [
    "from src.environment_tennis import EnvironmentTennis, episode\n",
    "from src.agent import Agent\n",
    "from numpy import random as rnd\n",
    "import numpy as np\n",
    "\n",
    "SEED = 1\n",
    "MAX_EPISODES = 5"
   ]
  },
  {
   "cell_type": "code",
   "execution_count": 2,
   "metadata": {},
   "outputs": [
    {
     "name": "stderr",
     "output_type": "stream",
     "text": [
      "INFO:unityagents:\n",
      "'Academy' started successfully!\n",
      "Unity Academy name: Academy\n",
      "        Number of Brains: 1\n",
      "        Number of External Brains : 1\n",
      "        Lesson number : 0\n",
      "        Reset Parameters :\n",
      "\t\t\n",
      "Unity brain name: TennisBrain\n",
      "        Number of Visual Observations (per agent): 0\n",
      "        Vector Observation space type: continuous\n",
      "        Vector Observation space size (per agent): 8\n",
      "        Number of stacked Vector Observation: 3\n",
      "        Vector Action space type: continuous\n",
      "        Vector Action space size (per agent): 2\n",
      "        Vector Action descriptions: , \n"
     ]
    }
   ],
   "source": [
    "env = EnvironmentTennis(no_graphics=False, seed=SEED)\n",
    "agent = Agent(s_dim=env.state_size, a_dim=env.action_size, n_agents=env.num_agents, seed=SEED)\n",
    "agent.load_weights()"
   ]
  },
  {
   "cell_type": "code",
   "execution_count": 3,
   "metadata": {},
   "outputs": [
    {
     "name": "stdout",
     "output_type": "stream",
     "text": [
      "score: [2.07000003 2.08000003]\n"
     ]
    }
   ],
   "source": [
    "scores = np.zeros(2)\n",
    "\n",
    "for _ in range(MAX_EPISODES):\n",
    "    e_scores = episode(env, agent, train_mode=False, t_max=10000)\n",
    "    scores += e_scores\n",
    "\n",
    "print(\"score: {}\".format(scores))"
   ]
  },
  {
   "cell_type": "code",
   "execution_count": 4,
   "metadata": {},
   "outputs": [],
   "source": [
    "env.close()"
   ]
  }
 ],
 "metadata": {
  "kernelspec": {
   "display_name": "Python 3.6.13 64-bit ('drlnd': conda)",
   "language": "python",
   "name": "python3"
  },
  "language_info": {
   "codemirror_mode": {
    "name": "ipython",
    "version": 3
   },
   "file_extension": ".py",
   "mimetype": "text/x-python",
   "name": "python",
   "nbconvert_exporter": "python",
   "pygments_lexer": "ipython3",
   "version": "3.6.13"
  },
  "vscode": {
   "interpreter": {
    "hash": "3b36e5cf5d9baa4756675d3f1b0fd1d5742d2d2f089aec24cfcb88f7fb58e44d"
   }
  }
 },
 "nbformat": 4,
 "nbformat_minor": 2
}
